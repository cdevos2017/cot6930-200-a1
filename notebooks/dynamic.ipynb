{
 "cells": [
  {
   "cell_type": "markdown",
   "metadata": {},
   "source": [
    "\n",
    "\n"
   ]
  },
  {
   "cell_type": "markdown",
   "metadata": {},
   "source": [
    "# Prompt Template Prompting\n",
    "\n",
    "Prompt Template Prompting refers to a technique where predefined templates are used to construct effective prompts that guide large language models (LLMs) to generate responses tailored to specific use cases. The templates typically contain static text combined with dynamic input variables, allowing for consistent, reusable, and customizable prompts.\n",
    "\n",
    "Prompt templates are widely used across various domains, such as:\n",
    "* **Question Generation**: Templates can generate quiz questions by filling in variables related to topics.\n",
    "* **Text Summarization**: Static instructions combined with variable documents or inputs allow flexible summarization.\n",
    "* **Coding Assistance**: Dynamic prompts help LLMs generate code snippets for different programming tasks.\n",
    "\n",
    "## References:\n",
    "\n",
    "* (OpenAI Documentation for Prompt Engineering)[https://platform.openai.com/docs/guides/prompt-engineering]"
   ]
  },
  {
   "cell_type": "markdown",
   "metadata": {},
   "source": [
    "## Running this code on MyBind.org\n",
    "\n",
    "Note: remember that you will need to **adjust CONFIG** with **proper URL and API_KEY**!\n",
    "\n",
    "[![Binder](https://mybinder.org/badge_logo.svg)](https://mybinder.org/v2/gh/GenILab-FAU/prompt-eng/HEAD?urlpath=%2Fdoc%2Ftree%2Fprompt-eng%2Fprompt_template.ipynb)\n"
   ]
  },
  {
   "cell_type": "code",
   "execution_count": null,
   "metadata": {},
   "outputs": [],
   "source": [
    "from prompt.prompt_refiner import iterative_prompt_refinement, format_final_prompt\n",
    "from prompt.utils import format_response, print_step\n",
    "from config._pipeline import create_payload, model_req\n",
    "\n",
    "# Original query\n",
    "MESSAGE = \"Testing the new Llama 3.2 model with a complex prompt. Please provide a detailed response.\"\n",
    "\n",
    "# Get refined configuration with improved template usage\n",
    "refined_config = iterative_prompt_refinement(MESSAGE)\n",
    "print_step(\"REFINED CONFIGURATION\", refined_config)\n",
    "\n",
    "# Format the final prompt\n",
    "PROMPT = format_final_prompt(refined_config, MESSAGE)\n",
    "print_step(\"GENERATED PROMPT\", PROMPT, is_json=False)\n",
    "\n",
    "# Configure model with optimized parameters\n",
    "payload = create_payload(\n",
    "    target=\"open-webui\",\n",
    "    model=\"llama3.2:latest\", \n",
    "    prompt=PROMPT,\n",
    "    **refined_config[\"parameters\"]\n",
    ")\n",
    "\n",
    "# Get and format response\n",
    "time, response = model_req(request_payload=payload)\n",
    "formatted_response = format_response(response, refined_config.get(\"task_type\"))\n",
    "print_step(\"MODEL RESPONSE\", formatted_response, is_json=False)"
   ]
  }
 ],
 "metadata": {
  "kernelspec": {
   "display_name": ".venv",
   "language": "python",
   "name": "python3"
  },
  "language_info": {
   "codemirror_mode": {
    "name": "ipython",
    "version": 3
   },
   "file_extension": ".py",
   "mimetype": "text/x-python",
   "name": "python",
   "nbconvert_exporter": "python",
   "pygments_lexer": "ipython3",
   "version": "3.12.3"
  }
 },
 "nbformat": 4,
 "nbformat_minor": 2
}
