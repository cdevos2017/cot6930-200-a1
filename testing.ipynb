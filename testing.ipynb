{
 "cells": [
  {
   "cell_type": "code",
   "execution_count": 3,
   "metadata": {},
   "outputs": [
    {
     "name": "stdout",
     "output_type": "stream",
     "text": [
      "CUDA available: True\n",
      "Number of GPUs: 2\n",
      "GPUs Available: [PhysicalDevice(name='/physical_device:GPU:0', device_type='GPU'), PhysicalDevice(name='/physical_device:GPU:1', device_type='GPU')]\n"
     ]
    }
   ],
   "source": [
    "# For PyTorch\n",
    "import torch\n",
    "print(f\"CUDA available: {torch.cuda.is_available()}\")\n",
    "print(f\"Number of GPUs: {torch.cuda.device_count()}\")\n",
    "\n",
    "# For TensorFlow\n",
    "import tensorflow as tf\n",
    "print(f\"GPUs Available: {tf.config.list_physical_devices('GPU')}\")"
   ]
  },
  {
   "cell_type": "code",
   "execution_count": 5,
   "metadata": {},
   "outputs": [
    {
     "name": "stdout",
     "output_type": "stream",
     "text": [
      "=== System Info ===\n",
      "Python version: 3.12.3\n",
      "CPU: AMD Ryzen Threadripper PRO 5975WX 32-Cores\n",
      "\n",
      "=== TensorFlow Tests ===\n",
      "TensorFlow version: 2.18.0\n",
      "GPU Devices: [PhysicalDevice(name='/physical_device:GPU:0', device_type='GPU'), PhysicalDevice(name='/physical_device:GPU:1', device_type='GPU')]\n",
      "\n",
      "TensorFlow GPU Test:\n",
      "Matrix multiplication result: [[22. 28.]\n",
      " [49. 64.]]\n",
      "\n",
      "=== PyTorch Tests ===\n",
      "PyTorch version: 2.6.0+cu124\n",
      "CUDA available: True\n",
      "CUDA version: 12.4\n",
      "Number of GPUs: 2\n",
      "GPU 0: NVIDIA TITAN RTX\n",
      "GPU 1: NVIDIA TITAN RTX\n",
      "\n",
      "PyTorch GPU Test:\n",
      "Matrix multiplication result: [[-0.91575897  0.97195977  2.5929344 ]\n",
      " [-2.003277    2.1091495   1.8752203 ]\n",
      " [ 1.654916   -0.56087124 -1.3892367 ]]\n"
     ]
    },
    {
     "name": "stderr",
     "output_type": "stream",
     "text": [
      "I0000 00:00:1739638843.051355  454838 gpu_device.cc:2022] Created device /job:localhost/replica:0/task:0/device:GPU:0 with 22277 MB memory:  -> device: 0, name: NVIDIA TITAN RTX, pci bus id: 0000:2b:00.0, compute capability: 7.5\n",
      "I0000 00:00:1739638843.051797  454838 gpu_device.cc:2022] Created device /job:localhost/replica:0/task:0/device:GPU:1 with 22277 MB memory:  -> device: 1, name: NVIDIA TITAN RTX, pci bus id: 0000:41:00.0, compute capability: 7.5\n"
     ]
    }
   ],
   "source": [
    "# Basic imports and GPU availability\n",
    "import tensorflow as tf\n",
    "import torch\n",
    "import platform\n",
    "import cpuinfo\n",
    "\n",
    "print(\"=== System Info ===\")\n",
    "print(f\"Python version: {platform.python_version()}\")\n",
    "print(f\"CPU: {cpuinfo.get_cpu_info()['brand_raw']}\")\n",
    "\n",
    "print(\"\\n=== TensorFlow Tests ===\")\n",
    "print(f\"TensorFlow version: {tf.__version__}\")\n",
    "print(\"GPU Devices:\", tf.config.list_physical_devices('GPU'))\n",
    "\n",
    "# Test TensorFlow GPU computation\n",
    "print(\"\\nTensorFlow GPU Test:\")\n",
    "with tf.device('/GPU:0'):\n",
    "    a = tf.constant([[1.0, 2.0, 3.0], [4.0, 5.0, 6.0]])\n",
    "    b = tf.constant([[1.0, 2.0], [3.0, 4.0], [5.0, 6.0]])\n",
    "    c = tf.matmul(a, b)\n",
    "    print(\"Matrix multiplication result:\", c.numpy())\n",
    "\n",
    "print(\"\\n=== PyTorch Tests ===\")\n",
    "print(f\"PyTorch version: {torch.__version__}\")\n",
    "print(f\"CUDA available: {torch.cuda.is_available()}\")\n",
    "if torch.cuda.is_available():\n",
    "    print(f\"CUDA version: {torch.version.cuda}\")\n",
    "    print(f\"Number of GPUs: {torch.cuda.device_count()}\")\n",
    "    for i in range(torch.cuda.device_count()):\n",
    "        print(f\"GPU {i}: {torch.cuda.get_device_name(i)}\")\n",
    "\n",
    "# Test PyTorch GPU computation\n",
    "if torch.cuda.is_available():\n",
    "    print(\"\\nPyTorch GPU Test:\")\n",
    "    x = torch.randn(3, 3).cuda()\n",
    "    y = torch.randn(3, 3).cuda()\n",
    "    z = torch.matmul(x, y)\n",
    "    print(\"Matrix multiplication result:\", z.cpu().numpy())"
   ]
  }
 ],
 "metadata": {
  "kernelspec": {
   "display_name": ".venv",
   "language": "python",
   "name": "python3"
  },
  "language_info": {
   "codemirror_mode": {
    "name": "ipython",
    "version": 3
   },
   "file_extension": ".py",
   "mimetype": "text/x-python",
   "name": "python",
   "nbconvert_exporter": "python",
   "pygments_lexer": "ipython3",
   "version": "3.12.3"
  }
 },
 "nbformat": 4,
 "nbformat_minor": 2
}
